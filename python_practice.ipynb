{
 "cells": [
  {
   "source": [
    "## Note: Run on kernel Python 3.7.8 64bit jup:conda on VScode"
   ],
   "cell_type": "markdown",
   "metadata": {}
  },
  {
   "cell_type": "markdown",
   "metadata": {},
   "source": [
    "# Magic/Dunder Methods"
   ]
  },
  {
   "cell_type": "code",
   "execution_count": 1,
   "metadata": {},
   "outputs": [],
   "source": [
    "import inspect \n",
    "\n"
   ]
  },
  {
   "source": [
    "# Booleans \n",
    "https://realpython.com/python-boolean/?__s=gyp59wqpjowqxdtcxvc8\n",
    "\n",
    "* Not a keyword, but bad practice to assign values to it\n",
    "* \"True\" and \"False\" ARE keywords \n",
    "* "
   ],
   "cell_type": "markdown",
   "metadata": {}
  },
  {
   "cell_type": "code",
   "execution_count": 2,
   "metadata": {},
   "outputs": [
    {
     "output_type": "stream",
     "name": "stdout",
     "text": [
      "Kidding assignment\n"
     ]
    }
   ],
   "source": [
    "bool = \"Kidding assignment\"\n",
    "print(bool)"
   ]
  },
  {
   "cell_type": "code",
   "execution_count": 2,
   "metadata": {},
   "outputs": [
    {
     "output_type": "stream",
     "name": "stdout",
     "text": [
      "False\n1\n0\n0\nFalse\n"
     ]
    }
   ],
   "source": [
    "#XOR \n",
    "print(True ^ True)\n",
    "print(1 ^ 0)\n",
    "print(1 ^ 1)\n",
    "print(True - 1)\n",
    "print(bool(\"\"))\n",
    "\n",
    "#Test if 1 string is empty, using logical XOR implemented into logical XOR for strings \n",
    "def logical_xor(str1, str2):\n",
    "    return bool(str1) ^ bool(str2)\n",
    "\n",
    "logical_xor(\"abc\", \"def\")"
   ]
  },
  {
   "source": [
    "# super(), MRO, multiple inheritance\n",
    "\n",
    "* use MRO to find "
   ],
   "cell_type": "markdown",
   "metadata": {}
  },
  {
   "cell_type": "code",
   "execution_count": 3,
   "metadata": {},
   "outputs": [],
   "source": [
    "class Rectangle:\n",
    "    def __init__(self, length, width):\n",
    "        self.length = length\n",
    "        self.width = width\n",
    "\n",
    "    def area(self):\n",
    "        return self.length * self.width\n",
    "\n",
    "    def perimeter(self):\n",
    "        return 2 * self.length + 2 * self.width\n",
    "\n",
    "class Square(Rectangle):\n",
    "    def __init__(self, length):\n",
    "        super().__init__(length, length)\n",
    "\n",
    "class Cube(Square):\n",
    "    def surface_area(self):\n",
    "        face_area = super().area()\n",
    "        return face_area * 6\n",
    "\n",
    "    def volume(self):\n",
    "        face_area = super().area()\n",
    "        return face_area * self.length"
   ]
  },
  {
   "cell_type": "code",
   "execution_count": 12,
   "metadata": {},
   "outputs": [
    {
     "output_type": "stream",
     "name": "stdout",
     "text": [
      "25\n20\n['__class__', '__delattr__', '__dict__', '__dir__', '__doc__', '__eq__', '__format__', '__ge__', '__getattribute__', '__gt__', '__hash__', '__init__', '__init_subclass__', '__le__', '__lt__', '__module__', '__ne__', '__new__', '__reduce__', '__reduce_ex__', '__repr__', '__setattr__', '__sizeof__', '__str__', '__subclasshook__', '__weakref__', 'area', 'length', 'perimeter', 'width']\n[<class '__main__.Square'>, <class '__main__.Rectangle'>, <class 'object'>]\n[<class '__main__.Cube'>, <class '__main__.Square'>, <class '__main__.Rectangle'>, <class 'object'>]\n"
     ]
    }
   ],
   "source": [
    "square1 = Square(5)\n",
    "print(square1.area())\n",
    "print(square1.perimeter())\n",
    "\n",
    "#Note: .mro() is a class function \n",
    "print(Square.mro())\n",
    "print(Cube.mro())"
   ]
  },
  {
   "cell_type": "code",
   "execution_count": null,
   "metadata": {},
   "outputs": [],
   "source": []
  }
 ],
 "metadata": {
  "kernelspec": {
   "name": "Python 3.7.8 64-bit ('jup': conda)",
   "display_name": "Python 3.7.8 64-bit ('jup': conda)",
   "metadata": {
    "interpreter": {
     "hash": "c1cdc748348498442a37c020c33bc394bbe1e32b4869daf9860a04caf35d6234"
    }
   }
  },
  "language_info": {
   "codemirror_mode": {
    "name": "ipython",
    "version": 3
   },
   "file_extension": ".py",
   "mimetype": "text/x-python",
   "name": "python",
   "nbconvert_exporter": "python",
   "pygments_lexer": "ipython3",
   "version": "3.7.8-final"
  }
 },
 "nbformat": 4,
 "nbformat_minor": 2
}