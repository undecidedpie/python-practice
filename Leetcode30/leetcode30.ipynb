{
 "nbformat": 4,
 "nbformat_minor": 2,
 "metadata": {
  "language_info": {
   "name": "python",
   "codemirror_mode": {
    "name": "ipython",
    "version": 3
   },
   "version": "3.7.6-final"
  },
  "orig_nbformat": 2,
  "file_extension": ".py",
  "mimetype": "text/x-python",
  "name": "python",
  "npconvert_exporter": "python",
  "pygments_lexer": "ipython3",
  "version": 3,
  "kernelspec": {
   "name": "python3",
   "display_name": "Python 3"
  }
 },
 "cells": [
  {
   "cell_type": "markdown",
   "metadata": {},
   "source": [
    "# Leetcode2020-04 30 coding questions challenge"
   ]
  },
  {
   "cell_type": "markdown",
   "metadata": {},
   "source": [
    "## Imports\n",
    "\n"
   ]
  },
  {
   "cell_type": "code",
   "execution_count": 3,
   "metadata": {},
   "outputs": [],
   "source": [
    "import math\n",
    "import numpy"
   ]
  },
  {
   "cell_type": "code",
   "execution_count": null,
   "metadata": {},
   "outputs": [],
   "source": [
    "test2"
   ]
  },
  {
   "cell_type": "markdown",
   "metadata": {},
   "source": [
    "## Day 1: \n",
    "\n",
    "![alt text](problem_statements/day1.png \"d1\")\n"
   ]
  },
  {
   "cell_type": "code",
   "execution_count": 4,
   "metadata": {},
   "outputs": [
    {
     "output_type": "stream",
     "name": "stdout",
     "text": "1\n"
    }
   ],
   "source": [
    "test = [1,2,2,3,3]\n",
    "\n",
    "def day_1(input):\n",
    "    \"\"\" \n",
    "    Returns entry in array which appears only once while all other entries appear twice\n",
    "\n",
    "    arg: single array containing int entries\n",
    "\n",
    "    returns: single int value\n",
    "    \n",
    "    \"\"\"\n",
    "    x = 0 \n",
    "    for entry in input:\n",
    "        x ^= entry\n",
    "    return x\n",
    "\n",
    "y = day_1(test)"
   ]
  },
  {
   "cell_type": "markdown",
   "metadata": {},
   "source": [
    "## Lesson Learned: \n",
    "\n",
    "* Learn bitwise operation\n",
    "* XOR used to figure out parity of solution when used twice"
   ]
  }
 ]
}