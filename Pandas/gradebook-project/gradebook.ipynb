{
 "metadata": {
  "language_info": {
   "codemirror_mode": {
    "name": "ipython",
    "version": 3
   },
   "file_extension": ".py",
   "mimetype": "text/x-python",
   "name": "python",
   "nbconvert_exporter": "python",
   "pygments_lexer": "ipython3",
   "version": "3.7.8-final"
  },
  "orig_nbformat": 2,
  "kernelspec": {
   "name": "python3",
   "display_name": "Python 3"
  }
 },
 "nbformat": 4,
 "nbformat_minor": 2,
 "cells": [
  {
   "source": [
    "https://realpython.com/pandas-project-gradebook/"
   ],
   "cell_type": "markdown",
   "metadata": {}
  },
  {
   "cell_type": "code",
   "execution_count": 69,
   "metadata": {},
   "outputs": [],
   "source": [
    "from pathlib import Path\n",
    "import numpy as np \n",
    "import pandas as pd\n",
    "import matplotlib.pyplot as plt\n",
    "from pathlib import Path\n",
    "import os \n",
    "import glob "
   ]
  },
  {
   "source": [
    "# Loading data\n",
    "\n",
    "- ROSTER and HW_EXAM_GRADES have common indices \n",
    "- TODO: try loading and manipulating with iterator\n"
   ],
   "cell_type": "markdown",
   "metadata": {}
  },
  {
   "cell_type": "code",
   "execution_count": 70,
   "metadata": {},
   "outputs": [],
   "source": [
    "HERE = os.getcwd()\n",
    "DATA_PATH = os.path.join(HERE, \"data\\\\\")\n",
    "\n",
    "#Get roster information, using StudentID = NetID as index\n",
    "ROSTER = pd.read_csv(\n",
    "    (DATA_PATH + \"roster.csv\"),\n",
    "    converters={\"NetID\": str.lower, \"Email Address\": str.lower},\n",
    "    usecols=[\"Section\", \"Email Address\", \"NetID\"],\n",
    "    index_col=\"NetID\",\n",
    ")\n",
    "\n",
    "#Get homework and exam grades for all students, using StudentID as index\n",
    "#usage of lambda to filter out submission time \n",
    "HW_EXAM_GRADES = pd.read_csv(\n",
    "    (DATA_PATH + \"hw_exam_grades.csv\"),\n",
    "    converters={\"SID\": str.lower},\n",
    "    usecols=lambda x: \"Submission\" not in x,\n",
    "    index_col=\"SID\",\n",
    ")\n",
    "\n",
    "#parse quiz grades from all 5 quiz_grades.csv, using email as index\n",
    "QUIZ_GRADES = pd.DataFrame()\n",
    "for file_path in glob.glob(DATA_PATH + \"quiz_*_grades.csv\"):\n",
    "    quiz_name = \" \".join(file_path.split(\"_\")[:2])\n",
    "    quiz_name = quiz_name.split(\"\\\\\")[-1]\n",
    "    quiz = pd.read_csv(\n",
    "        file_path,\n",
    "        converters={\"Email\": str.lower},\n",
    "        index_col=[\"Email\"],\n",
    "        usecols=[\"Email\", \"Grade\"],\n",
    "    ).rename(columns={\"Grade\": quiz_name})\n",
    "    QUIZ_GRADES = pd.concat([QUIZ_GRADES, quiz], axis=1)\n",
    "\n"
   ]
  },
  {
   "source": [
    "# Data preparation / cleaning\n",
    "\n",
    "- Merge all 3 dataframes into a single one containing all grades, indexed by StudentID\n",
    "- Calculate grades for each student and final letter grade"
   ],
   "cell_type": "markdown",
   "metadata": {}
  },
  {
   "cell_type": "code",
   "execution_count": 72,
   "metadata": {},
   "outputs": [],
   "source": [
    "#Merge and filling \n",
    "ALL_GRADES = pd.merge(ROSTER.merge(HW_EXAM_GRADES, left_index=True, right_index=True), QUIZ_GRADES, left_on='Email Address', right_index=True)\n",
    "ALL_GRADES = ALL_GRADES.fillna(0)\n",
    "\n",
    "# Variable initialization for calculation of final grade \n",
    "hw_pairs = dict()\n",
    "HW_WEIGHT = 0.4\n",
    "\n",
    "exam_pairs = dict()\n",
    "EXAM_WEIGHT = {\n",
    "    \"Exam 1\": 0.05,\n",
    "    \"Exam 2\": 0.1,\n",
    "    \"Exam 3\": 0.15\n",
    "}\n",
    "\n",
    "#Quiz max scores are not found within .csv files \n",
    "QUIZ_MAX_SCORES = {\n",
    "    \"quiz 1\": 11,\n",
    "    \"quiz 2\": 15,\n",
    "    \"quiz 3\": 17,\n",
    "    \"quiz 4\": 14,\n",
    "    \"quiz 5\": 12 \n",
    "}\n",
    "QUIZ_WEIGHT = 0.3\n",
    "\n",
    "\n",
    "# Calculating final grade\n",
    "for column_number in range (4, 24, 2):\n",
    "    hw_pairs[ALL_GRADES.columns[column_number]] = ALL_GRADES.columns[column_number + 1]\n",
    "\n",
    "ALL_GRADES['Homework total'] = 0\n",
    "for n_hw, n_hw_max in hw_pairs.items():\n",
    "    ALL_GRADES['Homework total'] += (ALL_GRADES[n_hw] / ALL_GRADES[n_hw_max]) * 100 * HW_WEIGHT / 10\n",
    "\n",
    "for column_number in range (24, 30, 2):\n",
    "    exam_pairs[ALL_GRADES.columns[column_number]] = ALL_GRADES.columns[column_number + 1]\n",
    "\n",
    "ALL_GRADES['Exam total'] = 0\n",
    "for n_exam, n_exam_max in exam_pairs.items():\n",
    "    ALL_GRADES['Exam total'] += (ALL_GRADES[n_exam] / ALL_GRADES[n_exam_max]) * 100 * EXAM_WEIGHT[n_exam] \n",
    "\n",
    "ALL_GRADES['Quiz total'] = 0\n",
    "for n_quiz, n_quiz_max in QUIZ_MAX_SCORES.items():\n",
    "    ALL_GRADES['Quiz total'] += (ALL_GRADES[n_quiz] / n_quiz_max) * 100 * QUIZ_WEIGHT / 5\n",
    "\n",
    "ALL_GRADES['Final grade'] = (ALL_GRADES['Homework total'] + ALL_GRADES['Exam total'] + ALL_GRADES['Quiz total']).round(decimals=0) \n",
    "\n",
    "def to_letter_grade(grade: int) -> str:\n",
    "    \"\"\"\n",
    "    Convert numerical grade to letter grade \n",
    "\n",
    "    args: numerical grade\n",
    "\n",
    "    return:  letter grades A to F\n",
    "    \"\"\"\n",
    "    if(grade > 89):\n",
    "        return \"A\"\n",
    "    elif(grade > 79):\n",
    "        return \"B\"\n",
    "    elif(grade > 69):\n",
    "        return \"C\"\n",
    "    elif(grade > 59):\n",
    "        return \"D\"\n",
    "    else:\n",
    "        return \"F\"\n",
    "\n",
    "ALL_GRADES['Letter Grade'] = ALL_GRADES['Final grade'].apply(func=to_letter_grade)\n"
   ]
  },
  {
   "source": [
    "# Visualization \n",
    "\n",
    "- Matplotlib \n",
    "- "
   ],
   "cell_type": "markdown",
   "metadata": {}
  },
  {
   "cell_type": "code",
   "execution_count": 45,
   "metadata": {},
   "outputs": [
    {
     "output_type": "execute_result",
     "data": {
      "text/plain": [
       "'Email Address'"
      ]
     },
     "metadata": {},
     "execution_count": 45
    }
   ],
   "source": [
    "ALL_GRADES.columns[0]"
   ]
  },
  {
   "cell_type": "code",
   "execution_count": null,
   "metadata": {},
   "outputs": [],
   "source": []
  }
 ]
}