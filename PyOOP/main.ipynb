{
 "nbformat": 4,
 "nbformat_minor": 2,
 "metadata": {
  "language_info": {
   "name": "python",
   "codemirror_mode": {
    "name": "ipython",
    "version": 3
   },
   "version": "3.7.6-final"
  },
  "orig_nbformat": 2,
  "file_extension": ".py",
  "mimetype": "text/x-python",
  "name": "python",
  "npconvert_exporter": "python",
  "pygments_lexer": "ipython3",
  "version": 3,
  "kernelspec": {
   "name": "python3",
   "display_name": "Python 3"
  }
 },
 "cells": [
  {
   "cell_type": "code",
   "execution_count": 1,
   "metadata": {},
   "outputs": [],
   "source": [
    "import Employee"
   ]
  },
  {
   "cell_type": "code",
   "execution_count": 2,
   "metadata": {},
   "outputs": [
    {
     "output_type": "execute_result",
     "data": {
      "text/plain": "['Developer',\n 'Employee',\n '__builtins__',\n '__cached__',\n '__doc__',\n '__file__',\n '__loader__',\n '__name__',\n '__package__',\n '__spec__']"
     },
     "metadata": {},
     "execution_count": 2
    }
   ],
   "source": [
    "dir(Employee)"
   ]
  },
  {
   "cell_type": "code",
   "execution_count": 3,
   "metadata": {},
   "outputs": [],
   "source": [
    "# Testing of alternative constructor using @classmethod\n",
    "\n",
    "emp_1 = Employee.Employee(\"Jon\", \"Doe\", 10000)\n",
    "emp_2 = Employee.Employee.from_string(\"Adam-Smith-20000\")"
   ]
  },
  {
   "cell_type": "code",
   "execution_count": 4,
   "metadata": {},
   "outputs": [
    {
     "output_type": "stream",
     "name": "stdout",
     "text": "Full name: Jon Doe, Pay: 10000\nEmployee Adam ready for duty!\n6\n"
    }
   ],
   "source": [
    "# Testing of __repr__ and __str__\n",
    "\n",
    "print(repr(emp_1))\n",
    "print(emp_2)\n",
    "print(len(emp_1))\n",
    ""
   ]
  },
  {
   "cell_type": "code",
   "execution_count": 5,
   "metadata": {},
   "outputs": [
    {
     "output_type": "stream",
     "name": "stdout",
     "text": "Jon.Doe@domain.com\nJon Doe\n"
    }
   ],
   "source": [
    "#testing getter and setter defined with @property\n",
    "\n",
    "print(emp_1.email)\n",
    "print(emp_1.fullname)\n"
   ]
  },
  {
   "cell_type": "code",
   "execution_count": 9,
   "metadata": {},
   "outputs": [
    {
     "output_type": "stream",
     "name": "stdout",
     "text": "Zhao Du\n"
    }
   ],
   "source": [
    "emp_1.fullname = \"Zhao Du\"\n",
    "print(emp_1.fullname)"
   ]
  },
  {
   "cell_type": "code",
   "execution_count": null,
   "metadata": {},
   "outputs": [],
   "source": []
  }
 ]
}